{
 "cells": [
  {
   "cell_type": "markdown",
   "id": "3ee69955",
   "metadata": {},
   "source": [
    "https://dacon.io/competitions/official/235738/codeshare/2902?page=1&dtype=recent"
   ]
  },
  {
   "cell_type": "code",
   "execution_count": 1,
   "id": "bcd89765",
   "metadata": {},
   "outputs": [],
   "source": [
    "import os\n",
    "import sys\n",
    "import shutil\n",
    "import numpy as np\n",
    "import pandas as pd\n",
    "import datetime\n",
    "import random\n",
    "\n",
    "import matplotlib as mpl\n",
    "import matplotlib.pyplot as plt\n",
    "import matplotlib.font_manager as fm\n",
    "import seaborn as sns\n",
    "import scipy as sc\n",
    "import scipy.cluster.hierarchy as shc\n",
    "from scipy.stats import skew\n",
    "from scipy.stats import spearmanr\n",
    "\n",
    "from tqdm import tqdm\n",
    "from glob import glob\n",
    "from matplotlib import font_manager, rc, cm\n",
    "plt.rcParams['font.family'] = 'Malgun Gothic'\n",
    "%matplotlib inline\n",
    "\n",
    "import sklearn\n",
    "from sklearn.linear_model import *\n",
    "from sklearn.svm import SVR\n",
    "from sklearn.cluster import KMeans\n",
    "from sklearn.model_selection import KFold\n",
    "from sklearn.preprocessing import StandardScaler\n",
    "from sktime.forecasting.model_selection import temporal_train_test_split\n",
    "from sktime.utils.plotting import plot_series\n",
    "\n",
    "import lightgbm as lgb\n",
    "from lightgbm import LGBMRegressor\n",
    "\n",
    "import catboost\n",
    "from catboost import CatBoostRegressor\n",
    "from catboost import Pool\n",
    "from xgboost import XGBRegressor\n",
    "from xgboost import plot_importance\n",
    "from sklearn.metrics import mean_squared_error\n",
    "from sklearn.linear_model import LinearRegression\n",
    "from sklearn.neighbors import KNeighborsRegressor\n",
    "from sklearn.ensemble import RandomForestRegressor\n",
    "from sklearn.preprocessing import StandardScaler, MinMaxScaler\n",
    "\n",
    "import warnings\n",
    "warnings.filterwarnings(\"ignore\")\n",
    "\n",
    "SEED = 2\n",
    "np.random.seed(SEED)\n",
    "\n",
    "# 음성 데이터 분석용 라이브러리\n",
    "import librosa\n",
    "import librosa.display"
   ]
  },
  {
   "cell_type": "code",
   "execution_count": 4,
   "id": "cadcb731",
   "metadata": {},
   "outputs": [],
   "source": [
    "sample_submission = pd.read_csv('./Data/sample_submission.csv')"
   ]
  },
  {
   "cell_type": "code",
   "execution_count": 6,
   "id": "59dc199c",
   "metadata": {},
   "outputs": [],
   "source": [
    "# africa_train_paths = glob('./Data/train/africa/*.wav')\n",
    "# australia_train_paths = glob('./Data/train/australia/*.wav')\n",
    "# canada_train_paths = glob('./Data/train/canada/*.wav')\n",
    "# england_train_paths = glob('./Data/train/england/*.wav')\n",
    "# hongkong_train_paths = glob('./Data/train/hongkong/*.wav')\n",
    "# us_train_paths = glob('./Data/train/us/*.wav')\n",
    "\n",
    "# path_list = [africa_train_paths,\n",
    "#              australia_train_paths,\n",
    "#              canada_train_paths,\n",
    "#              england_train_paths,\n",
    "#              hongkong_train_paths,\n",
    "#              us_train_paths]"
   ]
  },
  {
   "cell_type": "code",
   "execution_count": 30,
   "id": "d6dc2c87",
   "metadata": {},
   "outputs": [],
   "source": [
    "def load_data(paths):\n",
    "    result = []\n",
    "    \n",
    "    for path in tqdm(paths):\n",
    "        # sr(sampling rate) - 1초당 16000개의 데이터를 샘플링 한다는 의미\n",
    "        data, sr = librosa.load(path, sr = 16000)\n",
    "        result.append(data)\n",
    "        \n",
    "    result = np.array(result)\n",
    "    \n",
    "    return result"
   ]
  },
  {
   "cell_type": "code",
   "execution_count": 13,
   "id": "2bdc8fee",
   "metadata": {},
   "outputs": [],
   "source": [
    "africa_train_data = np.load('./Data/npy_data/africa_npy.npy', allow_pickle = True)"
   ]
  },
  {
   "cell_type": "code",
   "execution_count": null,
   "id": "97c5b25d",
   "metadata": {},
   "outputs": [],
   "source": [
    "def get_features(data, sr = 16000, n_fft = 2048, win_length = 200, hop_length = 160, n_mels = 64):\n",
    "    mel = []\n",
    "    for i in tqdm(data):"
   ]
  }
 ],
 "metadata": {
  "kernelspec": {
   "display_name": "Python 3",
   "language": "python",
   "name": "python3"
  },
  "language_info": {
   "codemirror_mode": {
    "name": "ipython",
    "version": 3
   },
   "file_extension": ".py",
   "mimetype": "text/x-python",
   "name": "python",
   "nbconvert_exporter": "python",
   "pygments_lexer": "ipython3",
   "version": "3.8.10"
  }
 },
 "nbformat": 4,
 "nbformat_minor": 5
}
